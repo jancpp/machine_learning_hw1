{
 "cells": [
  {
   "cell_type": "markdown",
   "metadata": {},
   "source": [
    "@file:   ml_income_prediction.py\n",
    "@date:   2/6/2019\n",
    "@author: Jan Polzer and Ryan Duckworth"
   ]
  },
  {
   "cell_type": "markdown",
   "metadata": {},
   "source": [
    "Import packages"
   ]
  },
  {
   "cell_type": "code",
   "execution_count": 1,
   "metadata": {},
   "outputs": [],
   "source": [
    "import numpy as np                                   # math tools\n",
    "import pandas as pd                                  # import and manage datasets\n",
    "import matplotlib.pyplot as plt                      # plot charts\n",
    "from sklearn import preprocessing                    # scale, transform data\n",
    "from sklearn.model_selection import train_test_split # split data"
   ]
  },
  {
   "cell_type": "markdown",
   "metadata": {},
   "source": [
    "Load dataset"
   ]
  },
  {
   "cell_type": "code",
   "execution_count": 2,
   "metadata": {},
   "outputs": [],
   "source": [
    "data = pd.read_csv('adult.csv')"
   ]
  },
  {
   "cell_type": "markdown",
   "metadata": {},
   "source": [
    "Drop data without values"
   ]
  },
  {
   "cell_type": "code",
   "execution_count": 3,
   "metadata": {},
   "outputs": [],
   "source": [
    "data = data[(data != '?').all(axis=1)]"
   ]
  },
  {
   "cell_type": "markdown",
   "metadata": {},
   "source": [
    "Matrix of independent variables"
   ]
  },
  {
   "cell_type": "code",
   "execution_count": 4,
   "metadata": {},
   "outputs": [],
   "source": [
    "X = data.iloc[:, :-1].values \n"
   ]
  },
  {
   "cell_type": "markdown",
   "metadata": {},
   "source": [
    "Dependent variable vector\n"
   ]
  },
  {
   "cell_type": "code",
   "execution_count": 5,
   "metadata": {},
   "outputs": [],
   "source": [
    "y = data.iloc[:, 14].values"
   ]
  },
  {
   "cell_type": "markdown",
   "metadata": {},
   "source": [
    "Transform dataset"
   ]
  },
  {
   "cell_type": "code",
   "execution_count": 9,
   "metadata": {},
   "outputs": [
    {
     "name": "stdout",
     "output_type": "stream",
     "text": [
      "   age workclass  fnlwgt     education  education.num marital.status  \\\n",
      "1   82   Private  132870       HS-grad              9        Widowed   \n",
      "3   54   Private  140359       7th-8th              4       Divorced   \n",
      "4   41   Private  264663  Some-college             10      Separated   \n",
      "5   34   Private  216864       HS-grad              9       Divorced   \n",
      "6   38   Private  150601          10th              6      Separated   \n",
      "\n",
      "          occupation   relationship   race     sex  capital.gain  \\\n",
      "1    Exec-managerial  Not-in-family  White  Female             0   \n",
      "3  Machine-op-inspct      Unmarried  White  Female             0   \n",
      "4     Prof-specialty      Own-child  White  Female             0   \n",
      "5      Other-service      Unmarried  White  Female             0   \n",
      "6       Adm-clerical      Unmarried  White    Male             0   \n",
      "\n",
      "   capital.loss  hours.per.week native.country income  \n",
      "1          4356              18  United-States  <=50K  \n",
      "3          3900              40  United-States  <=50K  \n",
      "4          3900              40  United-States  <=50K  \n",
      "5          3770              45  United-States  <=50K  \n",
      "6          3770              40  United-States  <=50K  \n",
      "   age  workclass  fnlwgt  education  education.num  marital.status  \\\n",
      "1   65          2    6096         11              8               6   \n",
      "3   37          2    6564          5              3               0   \n",
      "4   24          2   15770         15              9               5   \n",
      "5   17          2   13278         11              8               0   \n",
      "6   21          2    7296          0              5               5   \n",
      "\n",
      "   occupation  relationship  race  sex  capital.gain  capital.loss  \\\n",
      "1           3             1     4    0             0            89   \n",
      "3           6             4     4    0             0            88   \n",
      "4           9             3     4    0             0            88   \n",
      "5           7             4     4    0             0            87   \n",
      "6           0             4     4    1             0            87   \n",
      "\n",
      "   hours.per.week  native.country  income  \n",
      "1              17              38       0  \n",
      "3              39              38       0  \n",
      "4              39              38       0  \n",
      "5              44              38       0  \n",
      "6              39              38       0  \n"
     ]
    }
   ],
   "source": [
    "le = preprocessing.LabelEncoder()\n",
    "data = data.apply(le.fit_transform)"
   ]
  },
  {
   "cell_type": "markdown",
   "metadata": {},
   "source": [
    "Split dataset into Test set and Training set"
   ]
  },
  {
   "cell_type": "code",
   "execution_count": 6,
   "metadata": {},
   "outputs": [],
   "source": [
    "X_train, X_test, y_train, y_test = train_test_split(X, y, test_size=0.2)"
   ]
  },
  {
   "cell_type": "markdown",
   "metadata": {},
   "source": [
    "Explore dataset"
   ]
  },
  {
   "cell_type": "code",
   "execution_count": null,
   "metadata": {},
   "outputs": [],
   "source": [
    "data = data.sample(frac = 0.1, random_state = 1)\n",
    "print(data.columns)\n",
    "print(data.shape)\n",
    "print(data.describe())\n",
    "print(data.shape)"
   ]
  },
  {
   "cell_type": "markdown",
   "metadata": {},
   "source": [
    "Plot historgram for each parameter"
   ]
  },
  {
   "cell_type": "code",
   "execution_count": null,
   "metadata": {},
   "outputs": [],
   "source": [
    "data.hist(figsize = (10, 10))\n",
    "plt.show()"
   ]
  },
  {
   "cell_type": "markdown",
   "metadata": {},
   "source": [
    "Determine if income is over/uner $50k"
   ]
  },
  {
   "cell_type": "code",
   "execution_count": null,
   "metadata": {},
   "outputs": [],
   "source": [
    "Over50k = data[data['income'] == 0]\n",
    "Under50k = data[data['income'] == 1]\n",
    "\n",
    "print('Income over $50k: {}'.format(len(Over50k)) + ' samples')\n",
    "print('Income under $50k: {}'.format(len(Under50k)) + ' samples')"
   ]
  },
  {
   "cell_type": "code",
   "execution_count": null,
   "metadata": {},
   "outputs": [],
   "source": []
  },
  {
   "cell_type": "code",
   "execution_count": null,
   "metadata": {},
   "outputs": [],
   "source": []
  }
 ],
 "metadata": {
  "kernelspec": {
   "display_name": "Python 3",
   "language": "python",
   "name": "python3"
  },
  "language_info": {
   "codemirror_mode": {
    "name": "ipython",
    "version": 3
   },
   "file_extension": ".py",
   "mimetype": "text/x-python",
   "name": "python",
   "nbconvert_exporter": "python",
   "pygments_lexer": "ipython3",
   "version": "3.7.1"
  }
 },
 "nbformat": 4,
 "nbformat_minor": 2
}
